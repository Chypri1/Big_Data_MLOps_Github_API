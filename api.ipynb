{
 "cells": [
  {
   "cell_type": "code",
   "execution_count": 23,
   "id": "1e770808-1f78-4127-85cd-820e37f6507f",
   "metadata": {},
   "outputs": [],
   "source": [
    "import requests\n",
    "import json\n",
    "\n",
    "base_url = \"https://api.github.com\"\n",
    "# https://github.com/settings/tokens\n",
    "api_key = \"\"\n",
    "with open('api.json', 'r') as file:\n",
    "    api_key = json.load(file)[\"GH_API_KEY\"]\n",
    "\n",
    "def get_call(paths, params=None, header=None):\n",
    "    url = f\"{base_url}/{paths}\"\n",
    "    response = requests.get(url, params=params, headers=header)\n",
    "    print(response.headers[\")\n",
    "    if response.status_code == 200:\n",
    "        return response.json()\n",
    "    else:\n",
    "        print(f\"Error: {response.status_code} - {response.json().get('message', 'Unknown error')}\")\n",
    "        return None\n",
    "\n",
    "def get_repos_created_in_year(year, month_start=\"01\", month_end=12, day_start=\"01\", day_end=31):\n",
    "    # Recherche de repositories créés en 2024\n",
    "    query = \"created:>=\"+str(year)+\"-\"+str(month_start)+\"-\"+str(day_start)+\" created:<=\"+str(year)+\"-\"+str(month_end)+\"-\"+str(day_end)\n",
    "    params = {\"q\": query, \"per_page\": 15000000}  # Limité à 50 résultats par page\n",
    "    header = {\"Authorization\": f\"token {api_key}\"}\n",
    "    \n",
    "    # Appeler l'API de recherche de repositories\n",
    "    repos_data = get_call(\"search/repositories\", params=params, header=header)\n",
    "    if repos_data:\n",
    "        return repos_data.get(\"items\", [])\n",
    "    else:\n",
    "        return []\n",
    "    \n",
    "def get_languages_from_repositories(repositories):\n",
    "    # Extraire la liste des langages\n",
    "    return {repo[\"language\"] for repo in repositories if repo[\"language\"]}\n",
    "\n",
    "    \n",
    "def print_languages_from_repositories(repositories):\n",
    "    # Extraire la liste des langages\n",
    "    languages = {repo[\"language\"] for repo in repositories if repo[\"language\"]}\n",
    "\n",
    "    # Afficher les langages trouvés\n",
    "    if languages:\n",
    "        print(\"Langages utilisés dans les repositories créés en 2024 :\")\n",
    "        for language in sorted(languages):\n",
    "            print(f\"- {language}\")\n",
    "    else:\n",
    "        print(\"Aucun langage trouvé dans les repositories.\")"
   ]
  },
  {
   "cell_type": "code",
   "execution_count": 24,
   "id": "6f787ed4-beae-4dc9-bbb9-3c0ef43bd6fc",
   "metadata": {
    "tags": []
   },
   "outputs": [
    {
     "name": "stdout",
     "output_type": "stream",
     "text": [
      "{'Date': 'Mon, 13 Jan 2025 10:21:28 GMT', 'Content-Type': 'application/json; charset=utf-8', 'Cache-Control': 'no-cache', 'Vary': 'Accept, Authorization, Cookie, X-GitHub-OTP,Accept-Encoding, Accept, X-Requested-With', 'X-OAuth-Scopes': 'admin:org, admin:public_key, read:enterprise, read:project, read:user, repo', 'X-Accepted-OAuth-Scopes': '', 'github-authentication-token-expiration': '2025-04-08 13:26:24 UTC', 'X-GitHub-Media-Type': 'github.v3; format=json', 'Link': '<https://api.github.com/search/repositories?q=created%3A%3E%3D2024-01-01+created%3A%3C%3D2024-12-31&per_page=15000000&page=2>; rel=\"next\", <https://api.github.com/search/repositories?q=created%3A%3E%3D2024-01-01+created%3A%3C%3D2024-12-31&per_page=15000000&page=10>; rel=\"last\"', 'x-github-api-version-selected': '2022-11-28', 'X-RateLimit-Limit': '30', 'X-RateLimit-Remaining': '29', 'X-RateLimit-Reset': '1736763748', 'X-RateLimit-Used': '1', 'X-RateLimit-Resource': 'search', 'Access-Control-Expose-Headers': 'ETag, Link, Location, Retry-After, X-GitHub-OTP, X-RateLimit-Limit, X-RateLimit-Remaining, X-RateLimit-Used, X-RateLimit-Resource, X-RateLimit-Reset, X-OAuth-Scopes, X-Accepted-OAuth-Scopes, X-Poll-Interval, X-GitHub-Media-Type, X-GitHub-SSO, X-GitHub-Request-Id, Deprecation, Sunset', 'Access-Control-Allow-Origin': '*', 'Strict-Transport-Security': 'max-age=31536000; includeSubdomains; preload', 'X-Frame-Options': 'deny', 'X-Content-Type-Options': 'nosniff', 'X-XSS-Protection': '0', 'Referrer-Policy': 'origin-when-cross-origin, strict-origin-when-cross-origin', 'Content-Security-Policy': \"default-src 'none'\", 'Content-Encoding': 'gzip', 'Transfer-Encoding': 'chunked', 'Server': 'github.com', 'X-GitHub-Request-Id': 'DCFC:1DCE01:DBEE5E9:E166237:6784E924'}\n",
      "{'id': 26396162, 'node_id': 'MDEwOlJlcG9zaXRvcnkyNjM5NjE2Mg==', 'name': 'MaterialNavigationDrawer', 'full_name': 'neokree/MaterialNavigationDrawer', 'private': False, 'owner': {'login': 'neokree', 'id': 9344184, 'node_id': 'MDQ6VXNlcjkzNDQxODQ=', 'avatar_url': 'https://avatars.githubusercontent.com/u/9344184?v=4', 'gravatar_id': '', 'url': 'https://api.github.com/users/neokree', 'html_url': 'https://github.com/neokree', 'followers_url': 'https://api.github.com/users/neokree/followers', 'following_url': 'https://api.github.com/users/neokree/following{/other_user}', 'gists_url': 'https://api.github.com/users/neokree/gists{/gist_id}', 'starred_url': 'https://api.github.com/users/neokree/starred{/owner}{/repo}', 'subscriptions_url': 'https://api.github.com/users/neokree/subscriptions', 'organizations_url': 'https://api.github.com/users/neokree/orgs', 'repos_url': 'https://api.github.com/users/neokree/repos', 'events_url': 'https://api.github.com/users/neokree/events{/privacy}', 'received_events_url': 'https://api.github.com/users/neokree/received_events', 'type': 'User', 'user_view_type': 'public', 'site_admin': False}, 'html_url': 'https://github.com/neokree/MaterialNavigationDrawer', 'description': 'Navigation Drawer Activity with material design style and simplified methods', 'fork': False, 'url': 'https://api.github.com/repos/neokree/MaterialNavigationDrawer', 'forks_url': 'https://api.github.com/repos/neokree/MaterialNavigationDrawer/forks', 'keys_url': 'https://api.github.com/repos/neokree/MaterialNavigationDrawer/keys{/key_id}', 'collaborators_url': 'https://api.github.com/repos/neokree/MaterialNavigationDrawer/collaborators{/collaborator}', 'teams_url': 'https://api.github.com/repos/neokree/MaterialNavigationDrawer/teams', 'hooks_url': 'https://api.github.com/repos/neokree/MaterialNavigationDrawer/hooks', 'issue_events_url': 'https://api.github.com/repos/neokree/MaterialNavigationDrawer/issues/events{/number}', 'events_url': 'https://api.github.com/repos/neokree/MaterialNavigationDrawer/events', 'assignees_url': 'https://api.github.com/repos/neokree/MaterialNavigationDrawer/assignees{/user}', 'branches_url': 'https://api.github.com/repos/neokree/MaterialNavigationDrawer/branches{/branch}', 'tags_url': 'https://api.github.com/repos/neokree/MaterialNavigationDrawer/tags', 'blobs_url': 'https://api.github.com/repos/neokree/MaterialNavigationDrawer/git/blobs{/sha}', 'git_tags_url': 'https://api.github.com/repos/neokree/MaterialNavigationDrawer/git/tags{/sha}', 'git_refs_url': 'https://api.github.com/repos/neokree/MaterialNavigationDrawer/git/refs{/sha}', 'trees_url': 'https://api.github.com/repos/neokree/MaterialNavigationDrawer/git/trees{/sha}', 'statuses_url': 'https://api.github.com/repos/neokree/MaterialNavigationDrawer/statuses/{sha}', 'languages_url': 'https://api.github.com/repos/neokree/MaterialNavigationDrawer/languages', 'stargazers_url': 'https://api.github.com/repos/neokree/MaterialNavigationDrawer/stargazers', 'contributors_url': 'https://api.github.com/repos/neokree/MaterialNavigationDrawer/contributors', 'subscribers_url': 'https://api.github.com/repos/neokree/MaterialNavigationDrawer/subscribers', 'subscription_url': 'https://api.github.com/repos/neokree/MaterialNavigationDrawer/subscription', 'commits_url': 'https://api.github.com/repos/neokree/MaterialNavigationDrawer/commits{/sha}', 'git_commits_url': 'https://api.github.com/repos/neokree/MaterialNavigationDrawer/git/commits{/sha}', 'comments_url': 'https://api.github.com/repos/neokree/MaterialNavigationDrawer/comments{/number}', 'issue_comment_url': 'https://api.github.com/repos/neokree/MaterialNavigationDrawer/issues/comments{/number}', 'contents_url': 'https://api.github.com/repos/neokree/MaterialNavigationDrawer/contents/{+path}', 'compare_url': 'https://api.github.com/repos/neokree/MaterialNavigationDrawer/compare/{base}...{head}', 'merges_url': 'https://api.github.com/repos/neokree/MaterialNavigationDrawer/merges', 'archive_url': 'https://api.github.com/repos/neokree/MaterialNavigationDrawer/{archive_format}{/ref}', 'downloads_url': 'https://api.github.com/repos/neokree/MaterialNavigationDrawer/downloads', 'issues_url': 'https://api.github.com/repos/neokree/MaterialNavigationDrawer/issues{/number}', 'pulls_url': 'https://api.github.com/repos/neokree/MaterialNavigationDrawer/pulls{/number}', 'milestones_url': 'https://api.github.com/repos/neokree/MaterialNavigationDrawer/milestones{/number}', 'notifications_url': 'https://api.github.com/repos/neokree/MaterialNavigationDrawer/notifications{?since,all,participating}', 'labels_url': 'https://api.github.com/repos/neokree/MaterialNavigationDrawer/labels{/name}', 'releases_url': 'https://api.github.com/repos/neokree/MaterialNavigationDrawer/releases{/id}', 'deployments_url': 'https://api.github.com/repos/neokree/MaterialNavigationDrawer/deployments', 'created_at': '2014-11-09T13:19:48Z', 'updated_at': '2024-07-21T18:07:55Z', 'pushed_at': '2015-12-22T18:30:00Z', 'git_url': 'git://github.com/neokree/MaterialNavigationDrawer.git', 'ssh_url': 'git@github.com:neokree/MaterialNavigationDrawer.git', 'clone_url': 'https://github.com/neokree/MaterialNavigationDrawer.git', 'svn_url': 'https://github.com/neokree/MaterialNavigationDrawer', 'homepage': None, 'size': 19761, 'stargazers_count': 1560, 'watchers_count': 1560, 'language': 'Java', 'has_issues': True, 'has_projects': True, 'has_downloads': True, 'has_wiki': True, 'has_pages': False, 'has_discussions': False, 'forks_count': 431, 'mirror_url': None, 'archived': True, 'disabled': False, 'open_issues_count': 10, 'license': {'key': 'apache-2.0', 'name': 'Apache License 2.0', 'spdx_id': 'Apache-2.0', 'url': 'https://api.github.com/licenses/apache-2.0', 'node_id': 'MDc6TGljZW5zZTI='}, 'allow_forking': True, 'is_template': False, 'web_commit_signoff_required': False, 'topics': [], 'visibility': 'public', 'forks': 431, 'open_issues': 10, 'watchers': 1560, 'default_branch': 'master', 'permissions': {'admin': False, 'maintain': False, 'push': False, 'triage': False, 'pull': True}, 'score': 1.0}\n",
      "{'Jupyter Notebook', 'Ruby', 'JavaScript', 'Swift', 'CoffeeScript', 'PHP', 'TypeScript', 'VimL', 'Elixir', 'Objective-C', 'CSS', 'Java', 'Shell', 'Emacs Lisp', 'Haskell', 'C', 'C++', 'Kotlin', 'HTML', 'Rust', 'Python', 'Vim script'}\n"
     ]
    }
   ],
   "source": [
    "# Récupérer les repositories créés en 2024\n",
    "repositories = get_repos_created_in_year(year=2024)\n",
    "languages = []\n",
    "# Analyser les langages utilisés\n",
    "if repositories:\n",
    "    print(repositories[0])\n",
    "    languages = get_languages_from_repositories(repositories)\n",
    "else:\n",
    "    print(\"Aucun repository trouvé pour 2024.\")\n",
    "\n",
    "print(languages)"
   ]
  },
  {
   "cell_type": "code",
   "execution_count": null,
   "id": "cef0fdcc-6c95-4154-9368-935c3f5a50ba",
   "metadata": {},
   "outputs": [],
   "source": []
  },
  {
   "cell_type": "code",
   "execution_count": null,
   "id": "28cf6674-65ed-45f9-872f-e4a00e05312b",
   "metadata": {},
   "outputs": [],
   "source": []
  }
 ],
 "metadata": {
  "kernelspec": {
   "display_name": "Python 3 (ipykernel)",
   "language": "python",
   "name": "python3"
  },
  "language_info": {
   "codemirror_mode": {
    "name": "ipython",
    "version": 3
   },
   "file_extension": ".py",
   "mimetype": "text/x-python",
   "name": "python",
   "nbconvert_exporter": "python",
   "pygments_lexer": "ipython3",
   "version": "3.11.4"
  }
 },
 "nbformat": 4,
 "nbformat_minor": 5
}
