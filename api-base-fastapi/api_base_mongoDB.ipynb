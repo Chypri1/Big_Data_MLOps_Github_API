{
 "cells": [
  {
   "cell_type": "code",
   "execution_count": 1,
   "id": "1e770808-1f78-4127-85cd-820e37f6507f",
   "metadata": {},
   "outputs": [],
   "source": [
    "import requests\n",
    "import json\n",
    "\n",
    "base_url = \"https://api.github.com\"\n",
    "# https://github.com/settings/tokens\n",
    "api_key = \"\"\n",
    "with open('../api.json', 'r') as file:\n",
    "    api_key = json.load(file)[\"GH_API_KEY\"]\n",
    "\n",
    "def get_call(paths, params=None, header=None):\n",
    "    url = f\"{base_url}/{paths}\"\n",
    "    \n",
    "    response = requests.get(url, params=params, headers=header)\n",
    "    if response.status_code == 200:\n",
    "        return response.json()\n",
    "    else:\n",
    "        print(f\"Error: {response.status_code} - {response.json().get('message', 'Unknown error')}\")\n",
    "        return None\n",
    "\n",
    "def get_repos_created_in_year(year, month_start= '08'):\n",
    "    # Recherche de repositories créés en 2024\n",
    "    query = \"created:\"+str(year)+\"-\"+str(month_start)\n",
    "    params = {\"q\": query}\n",
    "    header = {\"Authorization\": f\"token {api_key}\"}\n",
    "    \n",
    "    # Appeler l'API de recherche de repositories\n",
    "    repos_data = get_call(\"search/repositories\", params=params, header=header)\n",
    "    if repos_data:\n",
    "        return repos_data.get(\"items\", [])\n",
    "    else:\n",
    "        return []\n",
    "    \n",
    "def get_languages_from_repositories(repositories):\n",
    "    # Extraire la liste des langages\n",
    "    return {repo[\"language\"] for repo in repositories if repo[\"language\"]}\n",
    "\n",
    "    \n",
    "def print_languages_from_repositories(repositories):\n",
    "    # Extraire la liste des langages\n",
    "    languages = {repo[\"language\"] for repo in repositories if repo[\"language\"]}\n",
    "\n",
    "    # Afficher les langages trouvés\n",
    "    if languages:\n",
    "        print(\"Langages utilisés dans les repositories créés en 2024 :\")\n",
    "        for language in sorted(languages):\n",
    "            print(f\"- {language}\")\n",
    "    else:\n",
    "        print(\"Aucun langage trouvé dans les repositories.\")"
   ]
  },
  {
   "cell_type": "code",
   "execution_count": 2,
   "id": "6f787ed4-beae-4dc9-bbb9-3c0ef43bd6fc",
   "metadata": {
    "scrolled": true,
    "tags": []
   },
   "outputs": [
    {
     "name": "stdout",
     "output_type": "stream",
     "text": [
      "{'id': 65600975, 'node_id': 'MDEwOlJlcG9zaXRvcnk2NTYwMDk3NQ==', 'name': 'pytorch', 'full_name': 'pytorch/pytorch', 'private': False, 'owner': {'login': 'pytorch', 'id': 21003710, 'node_id': 'MDEyOk9yZ2FuaXphdGlvbjIxMDAzNzEw', 'avatar_url': 'https://avatars.githubusercontent.com/u/21003710?v=4', 'gravatar_id': '', 'url': 'https://api.github.com/users/pytorch', 'html_url': 'https://github.com/pytorch', 'followers_url': 'https://api.github.com/users/pytorch/followers', 'following_url': 'https://api.github.com/users/pytorch/following{/other_user}', 'gists_url': 'https://api.github.com/users/pytorch/gists{/gist_id}', 'starred_url': 'https://api.github.com/users/pytorch/starred{/owner}{/repo}', 'subscriptions_url': 'https://api.github.com/users/pytorch/subscriptions', 'organizations_url': 'https://api.github.com/users/pytorch/orgs', 'repos_url': 'https://api.github.com/users/pytorch/repos', 'events_url': 'https://api.github.com/users/pytorch/events{/privacy}', 'received_events_url': 'https://api.github.com/users/pytorch/received_events', 'type': 'Organization', 'user_view_type': 'public', 'site_admin': False}, 'html_url': 'https://github.com/pytorch/pytorch', 'description': 'Tensors and Dynamic neural networks in Python with strong GPU acceleration', 'fork': False, 'url': 'https://api.github.com/repos/pytorch/pytorch', 'forks_url': 'https://api.github.com/repos/pytorch/pytorch/forks', 'keys_url': 'https://api.github.com/repos/pytorch/pytorch/keys{/key_id}', 'collaborators_url': 'https://api.github.com/repos/pytorch/pytorch/collaborators{/collaborator}', 'teams_url': 'https://api.github.com/repos/pytorch/pytorch/teams', 'hooks_url': 'https://api.github.com/repos/pytorch/pytorch/hooks', 'issue_events_url': 'https://api.github.com/repos/pytorch/pytorch/issues/events{/number}', 'events_url': 'https://api.github.com/repos/pytorch/pytorch/events', 'assignees_url': 'https://api.github.com/repos/pytorch/pytorch/assignees{/user}', 'branches_url': 'https://api.github.com/repos/pytorch/pytorch/branches{/branch}', 'tags_url': 'https://api.github.com/repos/pytorch/pytorch/tags', 'blobs_url': 'https://api.github.com/repos/pytorch/pytorch/git/blobs{/sha}', 'git_tags_url': 'https://api.github.com/repos/pytorch/pytorch/git/tags{/sha}', 'git_refs_url': 'https://api.github.com/repos/pytorch/pytorch/git/refs{/sha}', 'trees_url': 'https://api.github.com/repos/pytorch/pytorch/git/trees{/sha}', 'statuses_url': 'https://api.github.com/repos/pytorch/pytorch/statuses/{sha}', 'languages_url': 'https://api.github.com/repos/pytorch/pytorch/languages', 'stargazers_url': 'https://api.github.com/repos/pytorch/pytorch/stargazers', 'contributors_url': 'https://api.github.com/repos/pytorch/pytorch/contributors', 'subscribers_url': 'https://api.github.com/repos/pytorch/pytorch/subscribers', 'subscription_url': 'https://api.github.com/repos/pytorch/pytorch/subscription', 'commits_url': 'https://api.github.com/repos/pytorch/pytorch/commits{/sha}', 'git_commits_url': 'https://api.github.com/repos/pytorch/pytorch/git/commits{/sha}', 'comments_url': 'https://api.github.com/repos/pytorch/pytorch/comments{/number}', 'issue_comment_url': 'https://api.github.com/repos/pytorch/pytorch/issues/comments{/number}', 'contents_url': 'https://api.github.com/repos/pytorch/pytorch/contents/{+path}', 'compare_url': 'https://api.github.com/repos/pytorch/pytorch/compare/{base}...{head}', 'merges_url': 'https://api.github.com/repos/pytorch/pytorch/merges', 'archive_url': 'https://api.github.com/repos/pytorch/pytorch/{archive_format}{/ref}', 'downloads_url': 'https://api.github.com/repos/pytorch/pytorch/downloads', 'issues_url': 'https://api.github.com/repos/pytorch/pytorch/issues{/number}', 'pulls_url': 'https://api.github.com/repos/pytorch/pytorch/pulls{/number}', 'milestones_url': 'https://api.github.com/repos/pytorch/pytorch/milestones{/number}', 'notifications_url': 'https://api.github.com/repos/pytorch/pytorch/notifications{?since,all,participating}', 'labels_url': 'https://api.github.com/repos/pytorch/pytorch/labels{/name}', 'releases_url': 'https://api.github.com/repos/pytorch/pytorch/releases{/id}', 'deployments_url': 'https://api.github.com/repos/pytorch/pytorch/deployments', 'created_at': '2016-08-13T05:26:41Z', 'updated_at': '2025-02-07T11:00:29Z', 'pushed_at': '2025-02-07T11:39:15Z', 'git_url': 'git://github.com/pytorch/pytorch.git', 'ssh_url': 'git@github.com:pytorch/pytorch.git', 'clone_url': 'https://github.com/pytorch/pytorch.git', 'svn_url': 'https://github.com/pytorch/pytorch', 'homepage': 'https://pytorch.org', 'size': 1034649, 'stargazers_count': 86588, 'watchers_count': 86588, 'language': 'Python', 'has_issues': True, 'has_projects': True, 'has_downloads': True, 'has_wiki': True, 'has_pages': False, 'has_discussions': False, 'forks_count': 23303, 'mirror_url': None, 'archived': False, 'disabled': False, 'open_issues_count': 15559, 'license': {'key': 'other', 'name': 'Other', 'spdx_id': 'NOASSERTION', 'url': None, 'node_id': 'MDc6TGljZW5zZTA='}, 'allow_forking': True, 'is_template': False, 'web_commit_signoff_required': False, 'topics': ['autograd', 'deep-learning', 'gpu', 'machine-learning', 'neural-network', 'numpy', 'python', 'tensor'], 'visibility': 'public', 'forks': 23303, 'open_issues': 15559, 'watchers': 86588, 'default_branch': 'main', 'permissions': {'admin': False, 'maintain': False, 'push': False, 'triage': False, 'pull': True}, 'score': 1.0}\n",
      "{'C++', 'Go', 'C', 'Jupyter Notebook', 'Vue', 'TypeScript', 'Python', 'C#', 'Solidity', 'JavaScript', 'Java'}\n"
     ]
    }
   ],
   "source": [
    "# Récupérer les repositories créés en 2024\n",
    "repositories = get_repos_created_in_year(year=2016)\n",
    "languages = []\n",
    "# Analyser les langages utilisés\n",
    "if repositories:\n",
    "    print(repositories[0])\n",
    "    languages = get_languages_from_repositories(repositories)\n",
    "else:\n",
    "    print(\"Aucun repository trouvé pour 2024.\")\n",
    "\n",
    "print(languages)"
   ]
  },
  {
   "cell_type": "code",
   "execution_count": 3,
   "id": "88807c8e-7f66-4f4d-a716-b3768c22a06f",
   "metadata": {},
   "outputs": [
    {
     "name": "stdout",
     "output_type": "stream",
     "text": [
      "200\n",
      "{\"message\":\"Données insérées\",\"data\":{\"message\":\"Aucun nouveau document à insérer.\"},\"ingestion_data\":{\"message\":\"Aucun nouveau document à insérer.\"}}\n"
     ]
    }
   ],
   "source": [
    "import requests\n",
    "\n",
    "def appel_api_base_add_data(datas):\n",
    "    url = \"https://api-base-fastapi-mpt-dkhjb0cydga2aydc.canadacentral-01.azurewebsites.net/add_data\"\n",
    "    response = requests.post(url,json=datas)\n",
    "    print(response.status_code)\n",
    "    print(response.text)\n",
    "\n",
    "appel_api_base_add_data(repositories)"
   ]
  },
  {
   "cell_type": "code",
   "execution_count": 2,
   "id": "3584701c",
   "metadata": {
    "scrolled": true
   },
   "outputs": [
    {
     "name": "stdout",
     "output_type": "stream",
     "text": [
      "503\n",
      "<div style=\"display: block; margin: auto;  width: 600px; height: 500px; text-align: center; font-family: 'Courier', cursive, sans-serif;\"><h1 style=\"color: 747474\">:( Application Error</h1><p style=\"color:#666\">If you are the application administrator, you can access the <a style=\"color: grey\"href=\"https://api-base-fastapi-mpt-dkhjb0cydga2aydc.scm.canadacentral-01.azurewebsites.net/detectors\">diagnostic resources</a>.</div>\n",
      "\n"
     ]
    }
   ],
   "source": [
    "\n",
    "def appel_api_base_show_data():\n",
    "    url = \"https://api-base-fastapi-mpt-dkhjb0cydga2aydc.canadacentral-01.azurewebsites.net/show_data\"\n",
    "    response = requests.get(url)\n",
    "    print(response.status_code)\n",
    "    print(response.text)\n",
    "    \n",
    "appel_api_base_show_data()"
   ]
  },
  {
   "cell_type": "code",
   "execution_count": 4,
   "id": "2d19299d",
   "metadata": {
    "scrolled": true
   },
   "outputs": [
    {
     "name": "stdout",
     "output_type": "stream",
     "text": [
      "200\n",
      "{\"data\":[],\"message\":\"Données récupérées avec succès ✅\"}\n"
     ]
    }
   ],
   "source": [
    "import requests\n",
    "\n",
    "def appel_api_base_show_ingestion_date():\n",
    "    url = \"https://api-base-fastapi-mpt-dkhjb0cydga2aydc.canadacentral-01.azurewebsites.net/get_ingestion_date\"\n",
    "    response = requests.get(url)\n",
    "    print(response.status_code)\n",
    "    print(response.text)\n",
    "\n",
    "appel_api_base_show_ingestion_date()"
   ]
  },
  {
   "cell_type": "code",
   "execution_count": 1,
   "id": "e217da0f-cec6-4548-ac71-eca110add02d",
   "metadata": {},
   "outputs": [
    {
     "name": "stdout",
     "output_type": "stream",
     "text": [
      "200\n",
      "{\"message\":\"Collection 'my_ingestion_data_collection' supprimée avec succès ✅\"}\n"
     ]
    }
   ],
   "source": [
    "import requests\n",
    "\n",
    "def appel_api_base_delete_collection(collection_name: str):\n",
    "    url = \"https://api-base-fastapi-mpt-dkhjb0cydga2aydc.canadacentral-01.azurewebsites.net/delete_collection/\"+collection_name\n",
    "    response = requests.delete(url)\n",
    "    print(response.status_code)\n",
    "    print(response.text)\n",
    "\n",
    "appel_api_base_delete_collection(\"my_ingestion_data_collection\")"
   ]
  },
  {
   "cell_type": "code",
   "execution_count": null,
   "id": "a3a9c6aa",
   "metadata": {},
   "outputs": [],
   "source": []
  }
 ],
 "metadata": {
  "kernelspec": {
   "display_name": "MLops_Sini",
   "language": "python",
   "name": "python3"
  },
  "language_info": {
   "codemirror_mode": {
    "name": "ipython",
    "version": 3
   },
   "file_extension": ".py",
   "mimetype": "text/x-python",
   "name": "python",
   "nbconvert_exporter": "python",
   "pygments_lexer": "ipython3",
   "version": "3.12.8"
  }
 },
 "nbformat": 4,
 "nbformat_minor": 5
}
