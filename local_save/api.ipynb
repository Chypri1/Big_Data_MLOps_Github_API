{
 "cells": [
  {
   "cell_type": "code",
   "execution_count": 65,
   "id": "1e770808-1f78-4127-85cd-820e37f6507f",
   "metadata": {},
   "outputs": [],
   "source": [
    "import requests\n",
    "import json\n",
    "import string\n",
    "import pickle\n",
    "base_url = \"https://api.github.com\"\n",
    "# https://github.com/settings/tokens\n",
    "api_key = \"\"\n",
    "save_folder = f\"./local_save/\"\n",
    "with open('api.json', 'r') as file:\n",
    "    api_key = json.load(file)[\"GH_API_KEY\"]\n",
    "    \n",
    "def pickle_this(target, name, file_path=save_folder):\n",
    "    path = file_path+name\n",
    "    file = open(path, \"wb\")\n",
    "    if file:\n",
    "        pickle.dump(target, file)\n",
    "        file.close()\n",
    "        return True\n",
    "    file.close()\n",
    "    return False\n",
    "    \n",
    "\n",
    "def unpickle_this(name, file_path=save_folder):\n",
    "    path = file_path+name\n",
    "    file = open(path, \"rb\")\n",
    "    res = []\n",
    "    if file:\n",
    "        res = pickle.load(file)\n",
    "        file.close()\n",
    "        return res\n",
    "    file.close()\n",
    "    return res\n",
    "\n",
    "\n",
    "def get_call(paths, params=None, header=None):\n",
    "    url = f\"{base_url}/{paths}\"\n",
    "    response = requests.get(url, params=params, headers=header)\n",
    "    if response.status_code == 200:\n",
    "        return response.json()\n",
    "    elif response.status_code == 403:\n",
    "        print(\"La patience est d'or. Enculé\")\n",
    "        sleep(3600)\n",
    "        response = requests.get(url, params=params, headers=header)\n",
    "        return response.json()\n",
    "    else:\n",
    "        print(f\"Error: {response.status_code} - {response.json().get('message', 'Unknown error')}\")\n",
    "        return {}\n",
    "\n",
    "\n",
    "def get_repos_created_in_year(year, month_start=\"01\", month_end=\"12\", day_start=\"01\", day_end=\"31\"):\n",
    "    # Recherche de repositories créés en 2024\n",
    "    query = \"created:>=\"+str(year)+\"-\"+str(month_start)+\"-\"+str(day_start)+\" created:<=\"+str(year)+\"-\"+str(month_end)+\"-\"+str(day_end)\n",
    "    params = {\"q\": query, \"per-page\": 1}\n",
    "    header = {\"Authorization\": f\"token {api_key}\"}\n",
    "    # Appeler l'API de recherche de repositories\n",
    "    repos_data = get_call(\"search/repositories\", params=params, header=header)\n",
    "    if repos_data: \n",
    "        return repos_data.get(\"items\", [])\n",
    "    else:\n",
    "        return None\n",
    "    \n",
    "\n",
    "def get_repos_created_in_day_multipages(year, month=\"01\", day=\"01\", max_pages=0):\n",
    "    # Recherche de repositories créés en 2024\n",
    "    query = \"created:\"+str(year)+\"-\"+str(month)+\"-\"+str(day)\n",
    "    params = {\"q\": query, \"per-page\": 30}\n",
    "    header = {\"Authorization\": f\"token {api_key}\"}\n",
    "    # Appeler l'API de recherche de repositories\n",
    "    repos_data = get_call(\"search/repositories\", params=params, header=header)\n",
    "    num_pages = 0\n",
    "    res = []\n",
    "    if repos_data:\n",
    "        res.extend(repos_data.get(\"items\", []))\n",
    "        repo_pages = (repos_data.get(\"total_count\", 0) // 30)\n",
    "        print(repo_pages)\n",
    "        if max_pages > 0:\n",
    "            num_pages = min(max_pages, repo_pages)\n",
    "        \n",
    "        for ii in range(2, num_pages+1):\n",
    "            repos_data={}\n",
    "            params = {\"q\": query, \"per-page\": 30, \"page\": ii}\n",
    "            repos_data = get_call(\"search/repositories\", params=params, header=header)\n",
    "            res.extend(repos_data.get(\"items\", []))\n",
    "            pickle_this(res, \"repos_\"+str(year)+\"_\"+str(month))\n",
    "        \n",
    "        return res\n",
    "    else:\n",
    "        return []\n",
    "    \n",
    "    \n",
    "def get_languages_from_repositories(repositories):\n",
    "    # Extraire la liste des langages\n",
    "    return {repo[\"language\"] for repo in repositories if repo[\"language\"]}\n",
    "\n",
    "    \n",
    "def print_languages_from_repositories(repositories):\n",
    "    # Extraire la liste des langages\n",
    "    languages = {repo[\"language\"] for repo in repositories if repo[\"language\"]}\n",
    "\n",
    "    # Afficher les langages trouvés\n",
    "    if languages:\n",
    "        print(\"Langages utilisés dans les repositories créés en 2024 :\")\n",
    "        for language in sorted(languages):\n",
    "            print(f\"- {language}\")\n",
    "    else:\n",
    "        print(\"Aucun langage trouvé dans les repositories.\")"
   ]
  },
  {
   "cell_type": "code",
   "execution_count": 67,
   "id": "a5a5e77b-1ea6-4cc8-9b73-c92c1d985b2b",
   "metadata": {
    "tags": []
   },
   "outputs": [
    {
     "name": "stdout",
     "output_type": "stream",
     "text": [
      "117806\n",
      "Error: 422 - Only the first 1000 search results are available\n"
     ]
    },
    {
     "ename": "AttributeError",
     "evalue": "'NoneType' object has no attribute 'get'",
     "output_type": "error",
     "traceback": [
      "\u001b[1;31m---------------------------------------------------------------------------\u001b[0m",
      "\u001b[1;31mAttributeError\u001b[0m                            Traceback (most recent call last)",
      "Cell \u001b[1;32mIn[67], line 1\u001b[0m\n\u001b[1;32m----> 1\u001b[0m res \u001b[38;5;241m=\u001b[39m get_repos_created_in_year_multipages(year\u001b[38;5;241m=\u001b[39m\u001b[38;5;241m2024\u001b[39m, max_pages\u001b[38;5;241m=\u001b[39m\u001b[38;5;241m50\u001b[39m)\n\u001b[0;32m      2\u001b[0m \u001b[38;5;28mprint\u001b[39m(\u001b[38;5;28mlen\u001b[39m(res))\n",
      "Cell \u001b[1;32mIn[54], line 78\u001b[0m, in \u001b[0;36mget_repos_created_in_year_multipages\u001b[1;34m(year, month, max_pages)\u001b[0m\n\u001b[0;32m     76\u001b[0m     params \u001b[38;5;241m=\u001b[39m {\u001b[38;5;124m\"\u001b[39m\u001b[38;5;124mq\u001b[39m\u001b[38;5;124m\"\u001b[39m: query, \u001b[38;5;124m\"\u001b[39m\u001b[38;5;124mper-page\u001b[39m\u001b[38;5;124m\"\u001b[39m: \u001b[38;5;241m30\u001b[39m, \u001b[38;5;124m\"\u001b[39m\u001b[38;5;124mpage\u001b[39m\u001b[38;5;124m\"\u001b[39m: ii}\n\u001b[0;32m     77\u001b[0m     repos_data \u001b[38;5;241m=\u001b[39m get_call(\u001b[38;5;124m\"\u001b[39m\u001b[38;5;124msearch/repositories\u001b[39m\u001b[38;5;124m\"\u001b[39m, params\u001b[38;5;241m=\u001b[39mparams, header\u001b[38;5;241m=\u001b[39mheader)\n\u001b[1;32m---> 78\u001b[0m     res\u001b[38;5;241m.\u001b[39mextend(repos_data\u001b[38;5;241m.\u001b[39mget(\u001b[38;5;124m\"\u001b[39m\u001b[38;5;124mitems\u001b[39m\u001b[38;5;124m\"\u001b[39m, []))\n\u001b[0;32m     79\u001b[0m     pickle_this(res, \u001b[38;5;124m\"\u001b[39m\u001b[38;5;124mrepos_\u001b[39m\u001b[38;5;124m\"\u001b[39m\u001b[38;5;241m+\u001b[39m\u001b[38;5;28mstr\u001b[39m(year)\u001b[38;5;241m+\u001b[39m\u001b[38;5;28mstr\u001b[39m(month))\n\u001b[0;32m     81\u001b[0m \u001b[38;5;28;01mreturn\u001b[39;00m res\n",
      "\u001b[1;31mAttributeError\u001b[0m: 'NoneType' object has no attribute 'get'"
     ]
    }
   ],
   "source": [
    "res = get_repos_created_in_year_multipages(year=2024, max_pages=50)\n",
    "print(len(res))"
   ]
  },
  {
   "cell_type": "code",
   "execution_count": null,
   "id": "b3d5a403-e8f7-4cf7-9608-42df2034aaf5",
   "metadata": {
    "tags": []
   },
   "outputs": [
    {
     "name": "stdout",
     "output_type": "stream",
     "text": [
      "2\n",
      "3\n",
      "4\n",
      "5\n",
      "6\n",
      "7\n",
      "8\n",
      "9\n"
     ]
    }
   ],
   "source": [
    "for ii in range(1, 10):\n",
    "    print(ii)"
   ]
  },
  {
   "cell_type": "code",
   "execution_count": 73,
   "id": "6f787ed4-beae-4dc9-bbb9-3c0ef43bd6fc",
   "metadata": {
    "tags": []
   },
   "outputs": [
    {
     "ename": "TypeError",
     "evalue": "'Response' object is not subscriptable",
     "output_type": "error",
     "traceback": [
      "\u001b[1;31m---------------------------------------------------------------------------\u001b[0m",
      "\u001b[1;31mTypeError\u001b[0m                                 Traceback (most recent call last)",
      "Cell \u001b[1;32mIn[73], line 2\u001b[0m\n\u001b[0;32m      1\u001b[0m \u001b[38;5;66;03m# Récupérer les repositories créés en 2024\u001b[39;00m\n\u001b[1;32m----> 2\u001b[0m repositories \u001b[38;5;241m=\u001b[39m get_test(year\u001b[38;5;241m=\u001b[39m\u001b[38;5;241m2024\u001b[39m)\n\u001b[0;32m      3\u001b[0m languages \u001b[38;5;241m=\u001b[39m []\n\u001b[0;32m      4\u001b[0m \u001b[38;5;66;03m# Analyser les langages utilisés\u001b[39;00m\n",
      "Cell \u001b[1;32mIn[72], line 76\u001b[0m, in \u001b[0;36mget_test\u001b[1;34m(year, month)\u001b[0m\n\u001b[0;32m     74\u001b[0m header \u001b[38;5;241m=\u001b[39m {\u001b[38;5;124m\"\u001b[39m\u001b[38;5;124mAuthorization\u001b[39m\u001b[38;5;124m\"\u001b[39m: \u001b[38;5;124mf\u001b[39m\u001b[38;5;124m\"\u001b[39m\u001b[38;5;124mtoken \u001b[39m\u001b[38;5;132;01m{\u001b[39;00mapi_key\u001b[38;5;132;01m}\u001b[39;00m\u001b[38;5;124m\"\u001b[39m}\n\u001b[0;32m     75\u001b[0m \u001b[38;5;66;03m# Appeler l'API de recherche de repositories\u001b[39;00m\n\u001b[1;32m---> 76\u001b[0m repos_data \u001b[38;5;241m=\u001b[39m get_call_resp(\u001b[38;5;124m\"\u001b[39m\u001b[38;5;124msearch/repositories\u001b[39m\u001b[38;5;124m\"\u001b[39m, params\u001b[38;5;241m=\u001b[39mparams, header\u001b[38;5;241m=\u001b[39mheader)\n\u001b[0;32m     77\u001b[0m \u001b[38;5;28;01mif\u001b[39;00m repos_data:\n\u001b[0;32m     78\u001b[0m     \u001b[38;5;28mprint\u001b[39m(repos_data)\n",
      "Cell \u001b[1;32mIn[72], line 63\u001b[0m, in \u001b[0;36mget_call_resp\u001b[1;34m(paths, params, header)\u001b[0m\n\u001b[0;32m     61\u001b[0m url \u001b[38;5;241m=\u001b[39m \u001b[38;5;124mf\u001b[39m\u001b[38;5;124m\"\u001b[39m\u001b[38;5;132;01m{\u001b[39;00mbase_url\u001b[38;5;132;01m}\u001b[39;00m\u001b[38;5;124m/\u001b[39m\u001b[38;5;132;01m{\u001b[39;00mpaths\u001b[38;5;132;01m}\u001b[39;00m\u001b[38;5;124m\"\u001b[39m\n\u001b[0;32m     62\u001b[0m response \u001b[38;5;241m=\u001b[39m requests\u001b[38;5;241m.\u001b[39mget(url, params\u001b[38;5;241m=\u001b[39mparams, headers\u001b[38;5;241m=\u001b[39mheader)\n\u001b[1;32m---> 63\u001b[0m \u001b[38;5;28mprint\u001b[39m(response[\u001b[38;5;124m\"\u001b[39m\u001b[38;5;124mlink\u001b[39m\u001b[38;5;124m\"\u001b[39m])\n\u001b[0;32m     64\u001b[0m \u001b[38;5;28;01mif\u001b[39;00m response\u001b[38;5;241m.\u001b[39mstatus_code \u001b[38;5;241m==\u001b[39m \u001b[38;5;241m200\u001b[39m:\n\u001b[0;32m     65\u001b[0m     \u001b[38;5;28;01mreturn\u001b[39;00m response\n",
      "\u001b[1;31mTypeError\u001b[0m: 'Response' object is not subscriptable"
     ]
    }
   ],
   "source": [
    "# Récupérer les repositories créés en 2024\n",
    "repositories = get_test(year=2024)\n",
    "languages = []\n",
    "# Analyser les langages utilisés\n",
    "if repositories:\n",
    "    #print(repositories[0])\n",
    "    languages = get_languages_from_repositories(repositories)\n",
    "else:\n",
    "    print(\"Aucun repository trouvé pour 2024.\")\n",
    "\n",
    "print(languages)"
   ]
  },
  {
   "cell_type": "code",
   "execution_count": 67,
   "id": "f394d6cf-68c7-4148-a49f-10851d5a3cf3",
   "metadata": {
    "tags": []
   },
   "outputs": [
    {
     "ename": "IndexError",
     "evalue": "list index out of range",
     "output_type": "error",
     "traceback": [
      "\u001b[1;31m---------------------------------------------------------------------------\u001b[0m",
      "\u001b[1;31mIndexError\u001b[0m                                Traceback (most recent call last)",
      "Cell \u001b[1;32mIn[67], line 1\u001b[0m\n\u001b[1;32m----> 1\u001b[0m \u001b[38;5;28mprint\u001b[39m(repositories[\u001b[38;5;241m0\u001b[39m]\u001b[38;5;241m.\u001b[39mkeys())\n",
      "\u001b[1;31mIndexError\u001b[0m: list index out of range"
     ]
    }
   ],
   "source": [
    "print(repositories[0].keys())"
   ]
  },
  {
   "cell_type": "code",
   "execution_count": 9,
   "id": "925e3ccb-784f-44f3-bc60-243ccd93f9d6",
   "metadata": {
    "tags": []
   },
   "outputs": [
    {
     "data": {
      "text/plain": [
       "True"
      ]
     },
     "execution_count": 9,
     "metadata": {},
     "output_type": "execute_result"
    }
   ],
   "source": [
    "pickle_this(repositories, \"repos\")"
   ]
  },
  {
   "cell_type": "code",
   "execution_count": 7,
   "id": "eb0e8fa0-297f-4915-b0b9-699bf7cb7ab4",
   "metadata": {
    "tags": []
   },
   "outputs": [],
   "source": [
    "results = unpickle_this(\"repos\")"
   ]
  },
  {
   "cell_type": "code",
   "execution_count": 13,
   "id": "7efed580-f561-45e4-a0b6-46a28ee1e693",
   "metadata": {
    "tags": []
   },
   "outputs": [
    {
     "ename": "TypeError",
     "evalue": "unbound method dict.keys() needs an argument",
     "output_type": "error",
     "traceback": [
      "\u001b[1;31m---------------------------------------------------------------------------\u001b[0m",
      "\u001b[1;31mTypeError\u001b[0m                                 Traceback (most recent call last)",
      "Cell \u001b[1;32mIn[13], line 2\u001b[0m\n\u001b[0;32m      1\u001b[0m \u001b[38;5;28;01mfor\u001b[39;00m ii \u001b[38;5;129;01min\u001b[39;00m \u001b[38;5;28mrange\u001b[39m(\u001b[38;5;241m2010\u001b[39m, \u001b[38;5;241m2026\u001b[39m):\n\u001b[1;32m----> 2\u001b[0m     \u001b[38;5;28;01mif\u001b[39;00m ii \u001b[38;5;129;01min\u001b[39;00m \u001b[38;5;28mdict\u001b[39m\u001b[38;5;241m.\u001b[39mkeys():\n\u001b[0;32m      3\u001b[0m         repositories \u001b[38;5;241m=\u001b[39m get_repos_created_in_year(year\u001b[38;5;241m=\u001b[39mii)\n\u001b[0;32m      4\u001b[0m         \u001b[38;5;66;03m# Analyser les langages utilisés\u001b[39;00m\n",
      "\u001b[1;31mTypeError\u001b[0m: unbound method dict.keys() needs an argument"
     ]
    }
   ],
   "source": [
    "for ii in range(2010, 2026):\n",
    "    if ii in dict.keys():\n",
    "        repositories = get_repos_created_in_year(year=ii)\n",
    "        # Analyser les langages utilisés\n",
    "        if repositories:\n",
    "            pickle_this(repositories, \"repos\"+ii)\n",
    "            results[str(ii)] = get_languages_from_repositories(repositories)\n",
    "        else:\n",
    "            print(f\"Aucun repository trouvé pour %n.\", ii)\n",
    "print(results)"
   ]
  },
  {
   "cell_type": "code",
   "execution_count": 14,
   "id": "9435a99e-55d7-413a-94b4-d14dc05ee899",
   "metadata": {
    "tags": []
   },
   "outputs": [
    {
     "data": {
      "text/plain": [
       "30"
      ]
     },
     "execution_count": 14,
     "metadata": {},
     "output_type": "execute_result"
    }
   ],
   "source": [
    "len(results)"
   ]
  },
  {
   "cell_type": "code",
   "execution_count": 45,
   "id": "28cf6674-65ed-45f9-872f-e4a00e05312b",
   "metadata": {},
   "outputs": [
    {
     "name": "stdout",
     "output_type": "stream",
     "text": [
      "['https://api.github.com/search/repositories?q=created%3A%3E%3D2024-01-01+created%3A%3C%3D2024-12-31&per_page=15000000', '2']\n"
     ]
    }
   ],
   "source": [
    "def get_last_page_link(link_str):\n",
    "        link_last = \"\"\n",
    "        num_last = 1\n",
    "    for page in response[\"link\"].split(\", \"):\n",
    "        page_split = page.split(\"; \")\n",
    "        link_last = page_split[0][1:-1]\n",
    "        if \"last\" in page_split[1]:\n",
    "            num_last = link_last.split(\"&page=\")\n",
    "    link_last = link_last+\"&page=\"\n",
    "    return [link_last, num_last]"
   ]
  },
  {
   "cell_type": "code",
   "execution_count": null,
   "id": "43d57902-47dc-44d2-8c3f-fe6edb3f476a",
   "metadata": {},
   "outputs": [],
   "source": []
  }
 ],
 "metadata": {
  "kernelspec": {
   "display_name": "MLops_Sini",
   "language": "python",
   "name": "python3"
  },
  "language_info": {
   "codemirror_mode": {
    "name": "ipython",
    "version": 3
   },
   "file_extension": ".py",
   "mimetype": "text/x-python",
   "name": "python",
   "nbconvert_exporter": "python",
   "pygments_lexer": "ipython3",
   "version": "3.12.8"
  }
 },
 "nbformat": 4,
 "nbformat_minor": 5
}
