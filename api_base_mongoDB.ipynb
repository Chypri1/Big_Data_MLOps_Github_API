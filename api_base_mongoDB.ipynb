{
 "cells": [
  {
   "cell_type": "code",
   "execution_count": 1,
   "id": "1e770808-1f78-4127-85cd-820e37f6507f",
   "metadata": {},
   "outputs": [],
   "source": [
    "import requests\n",
    "import json\n",
    "\n",
    "base_url = \"https://api.github.com\"\n",
    "# https://github.com/settings/tokens\n",
    "api_key = \"\"\n",
    "with open('api.json', 'r') as file:\n",
    "    api_key = json.load(file)[\"GH_API_KEY\"]\n",
    "\n",
    "def get_call(paths, params=None, header=None):\n",
    "    url = f\"{base_url}/{paths}\"\n",
    "    response = requests.get(url, params=params, headers=header)\n",
    "    if response.status_code == 200:\n",
    "        return response.json()\n",
    "    else:\n",
    "        print(f\"Error: {response.status_code} - {response.json().get('message', 'Unknown error')}\")\n",
    "        return None\n",
    "\n",
    "def get_repos_created_in_year(year, month_start= '01', month_end=12, day_start='01', day_end=31):\n",
    "    # Recherche de repositories créés en 2024\n",
    "    query = \"created:>=\"+str(year)+\"-\"+str(month_start)+\"-\"+str(day_start)+\" created:<=\"+str(year)+\"-\"+str(month_end)+\"-\"+str(day_end)\n",
    "    params = {\"q\": query}\n",
    "    header = {\"Authorization\": f\"token {api_key}\"}\n",
    "    \n",
    "    # Appeler l'API de recherche de repositories\n",
    "    repos_data = get_call(\"search/repositories\", params=params, header=header)\n",
    "    if repos_data:\n",
    "        return repos_data.get(\"items\", [])\n",
    "    else:\n",
    "        return []\n",
    "    \n",
    "def get_languages_from_repositories(repositories):\n",
    "    # Extraire la liste des langages\n",
    "    return {repo[\"language\"] for repo in repositories if repo[\"language\"]}\n",
    "\n",
    "    \n",
    "def print_languages_from_repositories(repositories):\n",
    "    # Extraire la liste des langages\n",
    "    languages = {repo[\"language\"] for repo in repositories if repo[\"language\"]}\n",
    "\n",
    "    # Afficher les langages trouvés\n",
    "    if languages:\n",
    "        print(\"Langages utilisés dans les repositories créés en 2024 :\")\n",
    "        for language in sorted(languages):\n",
    "            print(f\"- {language}\")\n",
    "    else:\n",
    "        print(\"Aucun langage trouvé dans les repositories.\")"
   ]
  },
  {
   "cell_type": "code",
   "execution_count": 2,
   "id": "6f787ed4-beae-4dc9-bbb9-3c0ef43bd6fc",
   "metadata": {
    "scrolled": true,
    "tags": []
   },
   "outputs": [
    {
     "name": "stdout",
     "output_type": "stream",
     "text": [
      "{'id': 2922981, 'node_id': 'MDEwOlJlcG9zaXRvcnkyOTIyOTgx', 'name': 'buster', 'full_name': 'busterjs/buster', 'private': False, 'owner': {'login': 'busterjs', 'id': 1093693, 'node_id': 'MDEyOk9yZ2FuaXphdGlvbjEwOTM2OTM=', 'avatar_url': 'https://avatars.githubusercontent.com/u/1093693?v=4', 'gravatar_id': '', 'url': 'https://api.github.com/users/busterjs', 'html_url': 'https://github.com/busterjs', 'followers_url': 'https://api.github.com/users/busterjs/followers', 'following_url': 'https://api.github.com/users/busterjs/following{/other_user}', 'gists_url': 'https://api.github.com/users/busterjs/gists{/gist_id}', 'starred_url': 'https://api.github.com/users/busterjs/starred{/owner}{/repo}', 'subscriptions_url': 'https://api.github.com/users/busterjs/subscriptions', 'organizations_url': 'https://api.github.com/users/busterjs/orgs', 'repos_url': 'https://api.github.com/users/busterjs/repos', 'events_url': 'https://api.github.com/users/busterjs/events{/privacy}', 'received_events_url': 'https://api.github.com/users/busterjs/received_events', 'type': 'Organization', 'user_view_type': 'public', 'site_admin': False}, 'html_url': 'https://github.com/busterjs/buster', 'description': 'Abandoned - A powerful suite of automated test tools for JavaScript.', 'fork': False, 'url': 'https://api.github.com/repos/busterjs/buster', 'forks_url': 'https://api.github.com/repos/busterjs/buster/forks', 'keys_url': 'https://api.github.com/repos/busterjs/buster/keys{/key_id}', 'collaborators_url': 'https://api.github.com/repos/busterjs/buster/collaborators{/collaborator}', 'teams_url': 'https://api.github.com/repos/busterjs/buster/teams', 'hooks_url': 'https://api.github.com/repos/busterjs/buster/hooks', 'issue_events_url': 'https://api.github.com/repos/busterjs/buster/issues/events{/number}', 'events_url': 'https://api.github.com/repos/busterjs/buster/events', 'assignees_url': 'https://api.github.com/repos/busterjs/buster/assignees{/user}', 'branches_url': 'https://api.github.com/repos/busterjs/buster/branches{/branch}', 'tags_url': 'https://api.github.com/repos/busterjs/buster/tags', 'blobs_url': 'https://api.github.com/repos/busterjs/buster/git/blobs{/sha}', 'git_tags_url': 'https://api.github.com/repos/busterjs/buster/git/tags{/sha}', 'git_refs_url': 'https://api.github.com/repos/busterjs/buster/git/refs{/sha}', 'trees_url': 'https://api.github.com/repos/busterjs/buster/git/trees{/sha}', 'statuses_url': 'https://api.github.com/repos/busterjs/buster/statuses/{sha}', 'languages_url': 'https://api.github.com/repos/busterjs/buster/languages', 'stargazers_url': 'https://api.github.com/repos/busterjs/buster/stargazers', 'contributors_url': 'https://api.github.com/repos/busterjs/buster/contributors', 'subscribers_url': 'https://api.github.com/repos/busterjs/buster/subscribers', 'subscription_url': 'https://api.github.com/repos/busterjs/buster/subscription', 'commits_url': 'https://api.github.com/repos/busterjs/buster/commits{/sha}', 'git_commits_url': 'https://api.github.com/repos/busterjs/buster/git/commits{/sha}', 'comments_url': 'https://api.github.com/repos/busterjs/buster/comments{/number}', 'issue_comment_url': 'https://api.github.com/repos/busterjs/buster/issues/comments{/number}', 'contents_url': 'https://api.github.com/repos/busterjs/buster/contents/{+path}', 'compare_url': 'https://api.github.com/repos/busterjs/buster/compare/{base}...{head}', 'merges_url': 'https://api.github.com/repos/busterjs/buster/merges', 'archive_url': 'https://api.github.com/repos/busterjs/buster/{archive_format}{/ref}', 'downloads_url': 'https://api.github.com/repos/busterjs/buster/downloads', 'issues_url': 'https://api.github.com/repos/busterjs/buster/issues{/number}', 'pulls_url': 'https://api.github.com/repos/busterjs/buster/pulls{/number}', 'milestones_url': 'https://api.github.com/repos/busterjs/buster/milestones{/number}', 'notifications_url': 'https://api.github.com/repos/busterjs/buster/notifications{?since,all,participating}', 'labels_url': 'https://api.github.com/repos/busterjs/buster/labels{/name}', 'releases_url': 'https://api.github.com/repos/busterjs/buster/releases{/id}', 'deployments_url': 'https://api.github.com/repos/busterjs/buster/deployments', 'created_at': '2011-12-06T07:00:18Z', 'updated_at': '2023-11-03T17:09:25Z', 'pushed_at': '2018-05-12T07:44:20Z', 'git_url': 'git://github.com/busterjs/buster.git', 'ssh_url': 'git@github.com:busterjs/buster.git', 'clone_url': 'https://github.com/busterjs/buster.git', 'svn_url': 'https://github.com/busterjs/buster', 'homepage': 'http://docs.busterjs.org', 'size': 196, 'stargazers_count': 448, 'watchers_count': 448, 'language': 'JavaScript', 'has_issues': True, 'has_projects': True, 'has_downloads': True, 'has_wiki': True, 'has_pages': False, 'has_discussions': False, 'forks_count': 37, 'mirror_url': None, 'archived': True, 'disabled': False, 'open_issues_count': 72, 'license': {'key': 'other', 'name': 'Other', 'spdx_id': 'NOASSERTION', 'url': None, 'node_id': 'MDc6TGljZW5zZTA='}, 'allow_forking': True, 'is_template': False, 'web_commit_signoff_required': False, 'topics': [], 'visibility': 'public', 'forks': 37, 'open_issues': 72, 'watchers': 448, 'default_branch': 'master', 'score': 1.0}\n",
      "{'CSS', 'Java', 'Objective-C', 'JavaScript', 'PHP', 'Swift'}\n"
     ]
    }
   ],
   "source": [
    "# Récupérer les repositories créés en 2024\n",
    "repositories = get_repos_created_in_year(year=2023)\n",
    "languages = []\n",
    "# Analyser les langages utilisés\n",
    "if repositories:\n",
    "    print(repositories[0])\n",
    "    languages = get_languages_from_repositories(repositories)\n",
    "else:\n",
    "    print(\"Aucun repository trouvé pour 2024.\")\n",
    "\n",
    "print(languages)"
   ]
  },
  {
   "cell_type": "code",
   "execution_count": 14,
   "id": "3e168bdb-4593-4dc9-843b-a6fdd8561ed7",
   "metadata": {
    "scrolled": true
   },
   "outputs": [
    {
     "name": "stdout",
     "output_type": "stream",
     "text": [
      "{'id': 2922981, 'node_id': 'MDEwOlJlcG9zaXRvcnkyOTIyOTgx', 'name': 'buster', 'full_name': 'busterjs/buster', 'private': False, 'owner': {'login': 'busterjs', 'id': 1093693, 'node_id': 'MDEyOk9yZ2FuaXphdGlvbjEwOTM2OTM=', 'avatar_url': 'https://avatars.githubusercontent.com/u/1093693?v=4', 'gravatar_id': '', 'url': 'https://api.github.com/users/busterjs', 'html_url': 'https://github.com/busterjs', 'followers_url': 'https://api.github.com/users/busterjs/followers', 'following_url': 'https://api.github.com/users/busterjs/following{/other_user}', 'gists_url': 'https://api.github.com/users/busterjs/gists{/gist_id}', 'starred_url': 'https://api.github.com/users/busterjs/starred{/owner}{/repo}', 'subscriptions_url': 'https://api.github.com/users/busterjs/subscriptions', 'organizations_url': 'https://api.github.com/users/busterjs/orgs', 'repos_url': 'https://api.github.com/users/busterjs/repos', 'events_url': 'https://api.github.com/users/busterjs/events{/privacy}', 'received_events_url': 'https://api.github.com/users/busterjs/received_events', 'type': 'Organization', 'user_view_type': 'public', 'site_admin': False}, 'html_url': 'https://github.com/busterjs/buster', 'description': 'Abandoned - A powerful suite of automated test tools for JavaScript.', 'fork': False, 'url': 'https://api.github.com/repos/busterjs/buster', 'forks_url': 'https://api.github.com/repos/busterjs/buster/forks', 'keys_url': 'https://api.github.com/repos/busterjs/buster/keys{/key_id}', 'collaborators_url': 'https://api.github.com/repos/busterjs/buster/collaborators{/collaborator}', 'teams_url': 'https://api.github.com/repos/busterjs/buster/teams', 'hooks_url': 'https://api.github.com/repos/busterjs/buster/hooks', 'issue_events_url': 'https://api.github.com/repos/busterjs/buster/issues/events{/number}', 'events_url': 'https://api.github.com/repos/busterjs/buster/events', 'assignees_url': 'https://api.github.com/repos/busterjs/buster/assignees{/user}', 'branches_url': 'https://api.github.com/repos/busterjs/buster/branches{/branch}', 'tags_url': 'https://api.github.com/repos/busterjs/buster/tags', 'blobs_url': 'https://api.github.com/repos/busterjs/buster/git/blobs{/sha}', 'git_tags_url': 'https://api.github.com/repos/busterjs/buster/git/tags{/sha}', 'git_refs_url': 'https://api.github.com/repos/busterjs/buster/git/refs{/sha}', 'trees_url': 'https://api.github.com/repos/busterjs/buster/git/trees{/sha}', 'statuses_url': 'https://api.github.com/repos/busterjs/buster/statuses/{sha}', 'languages_url': 'https://api.github.com/repos/busterjs/buster/languages', 'stargazers_url': 'https://api.github.com/repos/busterjs/buster/stargazers', 'contributors_url': 'https://api.github.com/repos/busterjs/buster/contributors', 'subscribers_url': 'https://api.github.com/repos/busterjs/buster/subscribers', 'subscription_url': 'https://api.github.com/repos/busterjs/buster/subscription', 'commits_url': 'https://api.github.com/repos/busterjs/buster/commits{/sha}', 'git_commits_url': 'https://api.github.com/repos/busterjs/buster/git/commits{/sha}', 'comments_url': 'https://api.github.com/repos/busterjs/buster/comments{/number}', 'issue_comment_url': 'https://api.github.com/repos/busterjs/buster/issues/comments{/number}', 'contents_url': 'https://api.github.com/repos/busterjs/buster/contents/{+path}', 'compare_url': 'https://api.github.com/repos/busterjs/buster/compare/{base}...{head}', 'merges_url': 'https://api.github.com/repos/busterjs/buster/merges', 'archive_url': 'https://api.github.com/repos/busterjs/buster/{archive_format}{/ref}', 'downloads_url': 'https://api.github.com/repos/busterjs/buster/downloads', 'issues_url': 'https://api.github.com/repos/busterjs/buster/issues{/number}', 'pulls_url': 'https://api.github.com/repos/busterjs/buster/pulls{/number}', 'milestones_url': 'https://api.github.com/repos/busterjs/buster/milestones{/number}', 'notifications_url': 'https://api.github.com/repos/busterjs/buster/notifications{?since,all,participating}', 'labels_url': 'https://api.github.com/repos/busterjs/buster/labels{/name}', 'releases_url': 'https://api.github.com/repos/busterjs/buster/releases{/id}', 'deployments_url': 'https://api.github.com/repos/busterjs/buster/deployments', 'created_at': '2011-12-06T07:00:18Z', 'updated_at': '2023-11-03T17:09:25Z', 'pushed_at': '2018-05-12T07:44:20Z', 'git_url': 'git://github.com/busterjs/buster.git', 'ssh_url': 'git@github.com:busterjs/buster.git', 'clone_url': 'https://github.com/busterjs/buster.git', 'svn_url': 'https://github.com/busterjs/buster', 'homepage': 'http://docs.busterjs.org', 'size': 196, 'stargazers_count': 448, 'watchers_count': 448, 'language': 'JavaScript', 'has_issues': True, 'has_projects': True, 'has_downloads': True, 'has_wiki': True, 'has_pages': False, 'has_discussions': False, 'forks_count': 37, 'mirror_url': None, 'archived': True, 'disabled': False, 'open_issues_count': 72, 'license': {'key': 'other', 'name': 'Other', 'spdx_id': 'NOASSERTION', 'url': None, 'node_id': 'MDc6TGljZW5zZTA='}, 'allow_forking': True, 'is_template': False, 'web_commit_signoff_required': False, 'topics': [], 'visibility': 'public', 'forks': 37, 'open_issues': 72, 'watchers': 448, 'default_branch': 'master', 'score': 1.0}\n"
     ]
    }
   ],
   "source": [
    "print(repositories[0])"
   ]
  },
  {
   "cell_type": "code",
   "execution_count": 6,
   "id": "057252b0",
   "metadata": {
    "scrolled": true
   },
   "outputs": [
    {
     "name": "stdout",
     "output_type": "stream",
     "text": [
      "500\n",
      "Internal Server Error\n"
     ]
    }
   ],
   "source": [
    "import requests\n",
    "\n",
    "def appel_api_base_add_data(datas):\n",
    "    url = \"https://api-base-fastapi-mpt-dkhjb0cydga2aydc.canadacentral-01.azurewebsites.net/add_data\"\n",
    "    response = requests.post(url, json=datas)\n",
    "    print(response.status_code)\n",
    "    print(response.text)\n",
    "\n",
    "appel_api_base_add_data(repositories)"
   ]
  },
  {
   "cell_type": "code",
   "execution_count": 7,
   "id": "3584701c",
   "metadata": {},
   "outputs": [
    {
     "name": "stdout",
     "output_type": "stream",
     "text": [
      "200\n",
      "[{\"name\":\"Test\",\"value\":\"42\"},{\"id\":2922981,\"node_id\":\"MDEwOlJlcG9zaXRvcnkyOTIyOTgx\",\"name\":\"buster\",\"full_name\":\"busterjs/buster\",\"private\":false,\"owner\":{\"login\":\"busterjs\",\"id\":1093693,\"html_url\":\"https://github.com/busterjs\"},\"html_url\":\"https://github.com/busterjs/buster\",\"description\":\"Abandoned - A powerful suite of automated test tools for JavaScript.\",\"fork\":false,\"created_at\":\"2011-12-06T07:00:18Z\",\"updated_at\":\"2023-11-03T17:09:25Z\",\"pushed_at\":\"2018-05-12T07:44:20Z\",\"language\":\"JavaScript\",\"forks_count\":37,\"stargazers_count\":448,\"watchers_count\":448,\"open_issues_count\":72},{\"id\":18222014,\"node_id\":\"MDEwOlJlcG9zaXRvcnkxODIyMjAxNA==\",\"name\":\"AndroidFaceCropper\",\"full_name\":\"lafosca/AndroidFaceCropper\",\"private\":false,\"owner\":{\"login\":\"lafosca\",\"id\":3064345,\"html_url\":\"https://github.com/lafosca\"},\"html_url\":\"https://github.com/lafosca/AndroidFaceCropper\",\"description\":\"Android bitmap Face Cropper\",\"fork\":false,\"created_at\":\"2014-03-28T18:22:34Z\",\"updated_at\":\"2023-11-03T05:43:40Z\",\"pushed_at\":\"2014-07-31T14:30:57Z\",\"language\":\"Java\",\"forks_count\":94,\"stargazers_count\":448,\"watchers_count\":448,\"open_issues_count\":2},{\"id\":22457583,\"node_id\":\"MDEwOlJlcG9zaXRvcnkyMjQ1NzU4Mw==\",\"name\":\"angular-form-for\",\"full_name\":\"bvaughn/angular-form-for\",\"private\":false,\"owner\":{\"login\":\"bvaughn\",\"id\":29597,\"html_url\":\"https://github.com/bvaughn\"},\"html_url\":\"https://github.com/bvaughn/angular-form-for\",\"description\":\"Set of Angular directives to simplify creating and validating HTML forms.\",\"fork\":false,\"created_at\":\"2014-07-31T05:23:00Z\",\"updated_at\":\"2023-06-13T07:12:11Z\",\"pushed_at\":\"2016-04-12T16:20:25Z\",\"language\":\"JavaScript\",\"forks_count\":56,\"stargazers_count\":428,\"watchers_count\":428,\"open_issues_count\":7},{\"id\":41860912,\"node_id\":\"MDEwOlJlcG9zaXRvcnk0MTg2MDkxMg==\",\"name\":\"Tabby\",\"full_name\":\"hitherejoe/Tabby\",\"private\":false,\"owner\":{\"login\":\"hitherejoe\",\"id\":3879281,\"html_url\":\"https://github.com/hitherejoe\"},\"html_url\":\"https://github.com/hitherejoe/Tabby\",\"description\":\"A demo application for the new Android Custom Tabs support library\",\"fork\":false,\"created_at\":\"2015-09-03T13:22:29Z\",\"updated_at\":\"2023-08-13T11:25:30Z\",\"pushed_at\":\"2016-01-06T14:08:50Z\",\"language\":\"Java\",\"forks_count\":56,\"stargazers_count\":414,\"watchers_count\":414,\"open_issues_count\":2},{\"id\":21751038,\"node_id\":\"MDEwOlJlcG9zaXRvcnkyMTc1MTAzOA==\",\"name\":\"gentest\",\"full_name\":\"graue/gentest\",\"private\":false,\"owner\":{\"login\":\"graue\",\"id\":1730853,\"html_url\":\"https://github.com/graue\"},\"html_url\":\"https://github.com/graue/gentest\",\"description\":\"Generative testing for JavaScript. Save time and catch more bugs by letting the computer write test cases for you. WIP\",\"fork\":false,\"created_at\":\"2014-07-11T20:52:30Z\",\"updated_at\":\"2023-03-21T16:00:50Z\",\"pushed_at\":\"2014-09-09T22:03:25Z\",\"language\":\"JavaScript\",\"forks_count\":13,\"stargazers_count\":411,\"watchers_count\":411,\"open_issues_count\":10},{\"id\":48772800,\"node_id\":\"MDEwOlJlcG9zaXRvcnk0ODc3MjgwMA==\",\"name\":\"appolo\",\"full_name\":\"nicnocquee/appolo\",\"private\":false,\"owner\":{\"login\":\"nicnocquee\",\"id\":311343,\"html_url\":\"https://github.com/nicnocquee\"},\"html_url\":\"https://github.com/nicnocquee/appolo\",\"description\":\"Plugins and Themes for Jekyll to create App Portfolio for Developers\",\"fork\":false,\"created_at\":\"2015-12-30T00:14:15Z\",\"updated_at\":\"2023-07-04T02:45:12Z\",\"pushed_at\":\"2016-02-06T11:54:37Z\",\"language\":\"CSS\",\"forks_count\":38,\"stargazers_count\":406,\"watchers_count\":406,\"open_issues_count\":3},{\"id\":17987852,\"node_id\":\"MDEwOlJlcG9zaXRvcnkxNzk4Nzg1Mg==\",\"name\":\"WechatPayDemo\",\"full_name\":\"gbammc/WechatPayDemo\",\"private\":false,\"owner\":{\"login\":\"gbammc\",\"id\":1791294,\"html_url\":\"https://github.com/gbammc\"},\"html_url\":\"https://github.com/gbammc/WechatPayDemo\",\"description\":\"非官方微信支付 iOS demo\",\"fork\":false,\"created_at\":\"2014-03-21T17:20:14Z\",\"updated_at\":\"2023-07-17T02:58:17Z\",\"pushed_at\":\"2016-10-09T06:41:42Z\",\"language\":\"Objective-C\",\"forks_count\":82,\"stargazers_count\":406,\"watchers_count\":406,\"open_issues_count\":0},{\"id\":23153517,\"node_id\":\"MDEwOlJlcG9zaXRvcnkyMzE1MzUxNw==\",\"name\":\"poly-picker\",\"full_name\":\"jaydeepw/poly-picker\",\"private\":false,\"owner\":{\"login\":\"jaydeepw\",\"id\":1368272,\"html_url\":\"https://github.com/jaydeepw\"},\"html_url\":\"https://github.com/jaydeepw/poly-picker\",\"description\":\"Android library project for providing multiple image selection from the device. \",\"fork\":false,\"created_at\":\"2014-08-20T15:23:02Z\",\"updated_at\":\"2023-08-26T14:35:10Z\",\"pushed_at\":\"2017-07-08T06:18:11Z\",\"language\":\"Java\",\"forks_count\":113,\"stargazers_count\":406,\"watchers_count\":406,\"open_issues_count\":61},{\"id\":29298170,\"node_id\":\"MDEwOlJlcG9zaXRvcnkyOTI5ODE3MA==\",\"name\":\"ios-material-design\",\"full_name\":\"moqod/ios-material-design\",\"private\":false,\"owner\":{\"login\":\"moqod\",\"id\":4552715,\"html_url\":\"https://github.com/moqod\"},\"html_url\":\"https://github.com/moqod/ios-material-design\",\"description\":null,\"fork\":false,\"created_at\":\"2015-01-15T13:17:33Z\",\"updated_at\":\"2022-05-16T05:26:37Z\",\"pushed_at\":\"2022-11-30T17:14:11Z\",\"language\":\"Objective-C\",\"forks_count\":74,\"stargazers_count\":399,\"watchers_count\":399,\"open_issues_count\":6},{\"id\":35370181,\"node_id\":\"MDEwOlJlcG9zaXRvcnkzNTM3MDE4MQ==\",\"name\":\"flexboxobjc_deprecated\",\"full_name\":\"alexdrone/flexboxobjc_deprecated\",\"private\":false,\"owner\":{\"login\":\"alexdrone\",\"id\":238849,\"html_url\":\"https://github.com/alexdrone\"},\"html_url\":\"https://github.com/alexdrone/flexboxobjc_deprecated\",\"description\":\"A simple UIKit extension to wrap Flexbox layouts.\",\"fork\":false,\"created_at\":\"2015-05-10T12:33:22Z\",\"updated_at\":\"2023-11-03T18:00:08Z\",\"pushed_at\":\"2018-10-14T13:03:46Z\",\"language\":\"Objective-C\",\"forks_count\":29,\"stargazers_count\":397,\"watchers_count\":397,\"open_issues_count\":8},{\"id\":12605150,\"node_id\":\"MDEwOlJlcG9zaXRvcnkxMjYwNTE1MA==\",\"name\":\"Datatable\",\"full_name\":\"Chumper/Datatable\",\"private\":false,\"owner\":{\"login\":\"Chumper\",\"id\":919670,\"html_url\":\"https://github.com/Chumper\"},\"html_url\":\"https://github.com/Chumper/Datatable\",\"description\":\"This is a laravel 4 package for the server and client side of datatables at http://datatables.net/\",\"fork\":false,\"created_at\":\"2013-09-05T00:16:08Z\",\"updated_at\":\"2023-08-18T18:40:35Z\",\"pushed_at\":\"2018-01-02T12:47:15Z\",\"language\":\"PHP\",\"forks_count\":153,\"stargazers_count\":388,\"watchers_count\":388,\"open_issues_count\":107},{\"id\":20313863,\"node_id\":\"MDEwOlJlcG9zaXRvcnkyMDMxMzg2Mw==\",\"name\":\"dispatchr\",\"full_name\":\"YahooArchive/dispatchr\",\"private\":false,\"owner\":{\"login\":\"YahooArchive\",\"id\":19540805,\"html_url\":\"https://github.com/YahooArchive\"},\"html_url\":\"https://github.com/YahooArchive/dispatchr\",\"description\":\"A Flux dispatcher for applications that run on the server and the client.\",\"fork\":false,\"created_at\":\"2014-05-30T01:42:40Z\",\"updated_at\":\"2023-08-31T18:46:29Z\",\"pushed_at\":\"2015-12-17T23:49:39Z\",\"language\":null,\"forks_count\":28,\"stargazers_count\":385,\"watchers_count\":385,\"open_issues_count\":3},{\"id\":5845287,\"node_id\":\"MDEwOlJlcG9zaXRvcnk1ODQ1Mjg3\",\"name\":\"tailbone\",\"full_name\":\"dataarts/tailbone\",\"private\":false,\"owner\":{\"login\":\"dataarts\",\"id\":611946,\"html_url\":\"https://github.com/dataarts\"},\"html_url\":\"https://github.com/dataarts/tailbone\",\"description\":\"Automatic RESTful backend for AppEngine\",\"fork\":false,\"created_at\":\"2012-09-17T18:30:01Z\",\"updated_at\":\"2023-06-15T00:22:12Z\",\"pushed_at\":\"2015-11-10T16:51:15Z\",\"language\":\"JavaScript\",\"forks_count\":49,\"stargazers_count\":382,\"watchers_count\":382,\"open_issues_count\":7},{\"id\":1290426,\"node_id\":\"MDEwOlJlcG9zaXRvcnkxMjkwNDI2\",\"name\":\"Recipes-for-Mining-Twitter\",\"full_name\":\"ptwobrussell/Recipes-for-Mining-Twitter\",\"private\":false,\"owner\":{\"login\":\"ptwobrussell\",\"id\":98668,\"html_url\":\"https://github.com/ptwobrussell\"},\"html_url\":\"https://github.com/ptwobrussell/Recipes-for-Mining-Twitter\",\"description\":\"Adaptations and Extensions of Twitter-Related Examples from Mining the Social Web\",\"fork\":false,\"created_at\":\"2011-01-25T04:38:34Z\",\"updated_at\":\"2023-08-17T22:29:59Z\",\"pushed_at\":\"2013-09-03T14:31:57Z\",\"language\":\"JavaScript\",\"forks_count\":143,\"stargazers_count\":382,\"watchers_count\":382,\"open_issues_count\":0},{\"id\":26007437,\"node_id\":\"MDEwOlJlcG9zaXRvcnkyNjAwNzQzNw==\",\"name\":\"LinkedViewPager\",\"full_name\":\"jianghejie/LinkedViewPager\",\"private\":false,\"owner\":{\"login\":\"jianghejie\",\"id\":1896907,\"html_url\":\"https://github.com/jianghejie\"},\"html_url\":\"https://github.com/jianghejie/LinkedViewPager\",\"description\":\"a linked ViewPager and a demo to show the effect\",\"fork\":false,\"created_at\":\"2014-10-31T08:04:29Z\",\"updated_at\":\"2023-08-19T00:22:20Z\",\"pushed_at\":\"2014-11-01T02:00:19Z\",\"language\":\"Java\",\"forks_count\":63,\"stargazers_count\":381,\"watchers_count\":381,\"open_issues_count\":3},{\"id\":23717800,\"node_id\":\"MDEwOlJlcG9zaXRvcnkyMzcxNzgwMA==\",\"name\":\"VMaskTextField\",\"full_name\":\"viniciusmo/VMaskTextField\",\"private\":false,\"owner\":{\"login\":\"viniciusmo\",\"id\":2665872,\"html_url\":\"https://github.com/viniciusmo\"},\"html_url\":\"https://github.com/viniciusmo/VMaskTextField\",\"description\":\"VMaskTextField is a library which create an input mask for iOS.\",\"fork\":false,\"created_at\":\"2014-09-05T20:45:41Z\",\"updated_at\":\"2023-08-26T13:00:14Z\",\"pushed_at\":\"2018-02-20T02:20:37Z\",\"language\":\"Objective-C\",\"forks_count\":48,\"stargazers_count\":380,\"watchers_count\":380,\"open_issues_count\":9},{\"id\":15142510,\"node_id\":\"MDEwOlJlcG9zaXRvcnkxNTE0MjUxMA==\",\"name\":\"ui-grid.info\",\"full_name\":\"angular-ui/ui-grid.info\",\"private\":false,\"owner\":{\"login\":\"angular-ui\",\"id\":1530011,\"html_url\":\"https://github.com/angular-ui\"},\"html_url\":\"https://github.com/angular-ui/ui-grid.info\",\"description\":\"Website for ui-grid\",\"fork\":false,\"created_at\":\"2013-12-12T17:23:09Z\",\"updated_at\":\"2023-07-09T19:54:34Z\",\"pushed_at\":\"2024-04-12T20:52:01Z\",\"language\":null,\"forks_count\":1576,\"stargazers_count\":377,\"watchers_count\":377,\"open_issues_count\":2},{\"id\":10436592,\"node_id\":\"MDEwOlJlcG9zaXRvcnkxMDQzNjU5Mg==\",\"name\":\"QuickReturnHeader\",\"full_name\":\"ManuelPeinado/QuickReturnHeader\",\"private\":false,\"owner\":{\"login\":\"ManuelPeinado\",\"id\":2700015,\"html_url\":\"https://github.com/ManuelPeinado\"},\"html_url\":\"https://github.com/ManuelPeinado/QuickReturnHeader\",\"description\":\"A ListView/ScrollView header that hides when scrolling down and reappears immediately when scrolling up, regardless of how far down the list we've gone. Like the one from the Google Keep app.\",\"fork\":false,\"created_at\":\"2013-06-02T12:35:09Z\",\"updated_at\":\"2023-11-03T05:41:35Z\",\"pushed_at\":\"2013-06-15T07:49:15Z\",\"language\":\"Java\",\"forks_count\":145,\"stargazers_count\":377,\"watchers_count\":377,\"open_issues_count\":8},{\"id\":45889457,\"node_id\":\"MDEwOlJlcG9zaXRvcnk0NTg4OTQ1Nw==\",\"name\":\"Android-PullToRefreshRecyclerView\",\"full_name\":\"HomHomLin/Android-PullToRefreshRecyclerView\",\"private\":false,\"owner\":{\"login\":\"HomHomLin\",\"id\":8758713,\"html_url\":\"https://github.com/HomHomLin\"},\"html_url\":\"https://github.com/HomHomLin/Android-PullToRefreshRecyclerView\",\"description\":\"A RecyclerView library for Android which support pull-to-refresh ,auto-load-more and add header.\",\"fork\":false,\"created_at\":\"2015-11-10T05:24:50Z\",\"updated_at\":\"2023-11-05T07:05:26Z\",\"pushed_at\":\"2016-08-31T03:27:52Z\",\"language\":\"Java\",\"forks_count\":101,\"stargazers_count\":377,\"watchers_count\":377,\"open_issues_count\":25},{\"id\":78183659,\"node_id\":\"MDEwOlJlcG9zaXRvcnk3ODE4MzY1OQ==\",\"name\":\"showjoy-blog\",\"full_name\":\"ShowJoy-com/showjoy-blog\",\"private\":false,\"owner\":{\"login\":\"ShowJoy-com\",\"id\":19988230,\"html_url\":\"https://github.com/ShowJoy-com\"},\"html_url\":\"https://github.com/ShowJoy-com/showjoy-blog\",\"description\":\"尚妆产品技术刊读\",\"fork\":false,\"created_at\":\"2017-01-06T07:13:18Z\",\"updated_at\":\"2023-10-24T07:27:35Z\",\"pushed_at\":\"2017-03-15T11:04:39Z\",\"language\":null,\"forks_count\":38,\"stargazers_count\":376,\"watchers_count\":376,\"open_issues_count\":32},{\"id\":18000451,\"node_id\":\"MDEwOlJlcG9zaXRvcnkxODAwMDQ1MQ==\",\"name\":\"cemre-sketch-plugins\",\"full_name\":\"cemre/cemre-sketch-plugins\",\"private\":false,\"owner\":{\"login\":\"cemre\",\"id\":200566,\"html_url\":\"https://github.com/cemre\"},\"html_url\":\"https://github.com/cemre/cemre-sketch-plugins\",\"description\":\"Sketch plugins by Cemre Gungor\",\"fork\":false,\"created_at\":\"2014-03-22T02:37:52Z\",\"updated_at\":\"2023-09-08T16:46:25Z\",\"pushed_at\":\"2016-12-04T06:49:14Z\",\"language\":\"JavaScript\",\"forks_count\":13,\"stargazers_count\":375,\"watchers_count\":375,\"open_issues_count\":7},{\"id\":50345563,\"node_id\":\"MDEwOlJlcG9zaXRvcnk1MDM0NTU2Mw==\",\"name\":\"Frank\",\"full_name\":\"kylef-archive/Frank\",\"private\":false,\"owner\":{\"login\":\"kylef-archive\",\"id\":18200883,\"html_url\":\"https://github.com/kylef-archive\"},\"html_url\":\"https://github.com/kylef-archive/Frank\",\"description\":\"Frank is a DSL for quickly writing web applications in Swift\",\"fork\":false,\"created_at\":\"2016-01-25T11:12:24Z\",\"updated_at\":\"2023-09-13T19:50:59Z\",\"pushed_at\":\"2019-01-14T04:43:47Z\",\"language\":\"Swift\",\"forks_count\":8,\"stargazers_count\":373,\"watchers_count\":373,\"open_issues_count\":2},{\"id\":64625768,\"node_id\":\"MDEwOlJlcG9zaXRvcnk2NDYyNTc2OA==\",\"name\":\"grouter-android\",\"full_name\":\"taoweiji/grouter-android\",\"private\":false,\"owner\":{\"login\":\"taoweiji\",\"id\":3044176,\"html_url\":\"https://github.com/taoweiji\"},\"html_url\":\"https://github.com/taoweiji/grouter-android\",\"description\":\"原名ActivityRouter，Android 结构化路由框架\",\"fork\":false,\"created_at\":\"2016-08-01T01:30:03Z\",\"updated_at\":\"2023-08-25T13:27:19Z\",\"pushed_at\":\"2021-09-07T04:43:28Z\",\"language\":\"Java\",\"forks_count\":67,\"stargazers_count\":373,\"watchers_count\":373,\"open_issues_count\":0},{\"id\":46019919,\"node_id\":\"MDEwOlJlcG9zaXRvcnk0NjAxOTkxOQ==\",\"name\":\"react-native-splashscreen\",\"full_name\":\"remobile/react-native-splashscreen\",\"private\":false,\"owner\":{\"login\":\"remobile\",\"id\":13012605,\"html_url\":\"https://github.com/remobile\"},\"html_url\":\"https://github.com/remobile/react-native-splashscreen\",\"description\":null,\"fork\":false,\"created_at\":\"2015-11-12T00:53:48Z\",\"updated_at\":\"2023-11-09T00:25:40Z\",\"pushed_at\":\"2017-11-04T17:56:53Z\",\"language\":\"Java\",\"forks_count\":103,\"stargazers_count\":373,\"watchers_count\":373,\"open_issues_count\":32},{\"id\":32450954,\"node_id\":\"MDEwOlJlcG9zaXRvcnkzMjQ1MDk1NA==\",\"name\":\"Beautyacticle\",\"full_name\":\"NicodeLee/Beautyacticle\",\"private\":false,\"owner\":{\"login\":\"NicodeLee\",\"id\":3689377,\"html_url\":\"https://github.com/NicodeLee\"},\"html_url\":\"https://github.com/NicodeLee/Beautyacticle\",\"description\":\"Share the most beautiful words\",\"fork\":false,\"created_at\":\"2015-03-18T09:58:39Z\",\"updated_at\":\"2023-10-14T04:52:55Z\",\"pushed_at\":\"2016-06-24T08:19:06Z\",\"language\":\"Java\",\"forks_count\":70,\"stargazers_count\":373,\"watchers_count\":373,\"open_issues_count\":0},{\"id\":27259906,\"node_id\":\"MDEwOlJlcG9zaXRvcnkyNzI1OTkwNg==\",\"name\":\"ScrollableItemList\",\"full_name\":\"rohaanhamid/ScrollableItemList\",\"private\":false,\"owner\":{\"login\":\"rohaanhamid\",\"id\":2194272,\"html_url\":\"https://github.com/rohaanhamid\"},\"html_url\":\"https://github.com/rohaanhamid/ScrollableItemList\",\"description\":\"An Android RecyclerView List with items that can scroll to reveal more content\",\"fork\":false,\"created_at\":\"2014-11-28T09:21:00Z\",\"updated_at\":\"2023-09-08T16:52:29Z\",\"pushed_at\":\"2016-02-21T05:28:54Z\",\"language\":\"Java\",\"forks_count\":48,\"stargazers_count\":373,\"watchers_count\":373,\"open_issues_count\":1},{\"id\":21792130,\"node_id\":\"MDEwOlJlcG9zaXRvcnkyMTc5MjEzMA==\",\"name\":\"Teleport\",\"full_name\":\"Mariuxtheone/Teleport\",\"private\":false,\"owner\":{\"login\":\"Mariuxtheone\",\"id\":5096645,\"html_url\":\"https://github.com/Mariuxtheone\"},\"html_url\":\"https://github.com/Mariuxtheone/Teleport\",\"description\":\"Data Sync & Messaging Library for Android Wear\",\"fork\":false,\"created_at\":\"2014-07-13T14:24:19Z\",\"updated_at\":\"2023-09-08T16:48:58Z\",\"pushed_at\":\"2017-05-10T12:51:02Z\",\"language\":\"Java\",\"forks_count\":47,\"stargazers_count\":370,\"watchers_count\":370,\"open_issues_count\":15},{\"id\":43916675,\"node_id\":\"MDEwOlJlcG9zaXRvcnk0MzkxNjY3NQ==\",\"name\":\"Cereal\",\"full_name\":\"Weebly/Cereal\",\"private\":false,\"owner\":{\"login\":\"Weebly\",\"id\":1890533,\"html_url\":\"https://github.com/Weebly\"},\"html_url\":\"https://github.com/Weebly/Cereal\",\"description\":\"Swift object serialization\",\"fork\":false,\"created_at\":\"2015-10-08T21:14:37Z\",\"updated_at\":\"2023-08-27T18:24:42Z\",\"pushed_at\":\"2017-10-27T21:43:20Z\",\"language\":\"Swift\",\"forks_count\":13,\"stargazers_count\":369,\"watchers_count\":369,\"open_issues_count\":5},{\"id\":1356106,\"node_id\":\"MDEwOlJlcG9zaXRvcnkxMzU2MTA2\",\"name\":\"SVGeocoder\",\"full_name\":\"TransitApp/SVGeocoder\",\"private\":false,\"owner\":{\"login\":\"TransitApp\",\"id\":5727177,\"html_url\":\"https://github.com/TransitApp\"},\"html_url\":\"https://github.com/TransitApp/SVGeocoder\",\"description\":\"Simple Cocoa wrapper for the Google Geocoding Service\",\"fork\":false,\"created_at\":\"2011-02-11T18:28:55Z\",\"updated_at\":\"2023-07-06T23:39:16Z\",\"pushed_at\":\"2019-01-22T16:31:58Z\",\"language\":\"Objective-C\",\"forks_count\":78,\"stargazers_count\":368,\"watchers_count\":368,\"open_issues_count\":8},{\"id\":8287197,\"node_id\":\"MDEwOlJlcG9zaXRvcnk4Mjg3MTk3\",\"name\":\"weChat\",\"full_name\":\"zscorpio/weChat\",\"private\":false,\"owner\":{\"login\":\"zscorpio\",\"id\":1071075,\"html_url\":\"https://github.com/zscorpio\"},\"html_url\":\"https://github.com/zscorpio/weChat\",\"description\":\"微信api\",\"fork\":false,\"created_at\":\"2013-02-19T09:31:47Z\",\"updated_at\":\"2023-10-10T02:56:22Z\",\"pushed_at\":\"2015-04-10T04:34:32Z\",\"language\":\"PHP\",\"forks_count\":155,\"stargazers_count\":368,\"watchers_count\":368,\"open_issues_count\":2}]\n"
     ]
    }
   ],
   "source": [
    "import requests\n",
    "\n",
    "def appel_api_base_show_data():\n",
    "    url = \"https://api-base-fastapi-mpt-dkhjb0cydga2aydc.canadacentral-01.azurewebsites.net/show_data\"\n",
    "    response = requests.get(url)\n",
    "    print(response.status_code)\n",
    "    print(response.text)\n",
    "\n",
    "appel_api_base_show_data()"
   ]
  },
  {
   "cell_type": "code",
   "execution_count": null,
   "id": "17a43c47-117f-4183-992a-4998b6bbcbb0",
   "metadata": {},
   "outputs": [],
   "source": []
  }
 ],
 "metadata": {
  "kernelspec": {
   "display_name": "Python 3 (ipykernel)",
   "language": "python",
   "name": "python3"
  },
  "language_info": {
   "codemirror_mode": {
    "name": "ipython",
    "version": 3
   },
   "file_extension": ".py",
   "mimetype": "text/x-python",
   "name": "python",
   "nbconvert_exporter": "python",
   "pygments_lexer": "ipython3",
   "version": "3.11.5"
  }
 },
 "nbformat": 4,
 "nbformat_minor": 5
}
